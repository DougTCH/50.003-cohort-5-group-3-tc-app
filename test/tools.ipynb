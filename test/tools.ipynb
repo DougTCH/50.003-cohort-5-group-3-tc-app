{
 "cells": [
  {
   "cell_type": "code",
   "execution_count": 27,
   "metadata": {},
   "outputs": [],
   "source": [
    "import requests\n",
    "import json\n",
    "baseurl = \"http://localhost:3000/\""
   ]
  },
  {
   "cell_type": "code",
   "execution_count": 48,
   "metadata": {},
   "outputs": [],
   "source": [
    "users = []\n",
    "toks = {}\n",
    "with open(\"users.json\") as u:\n",
    "    users = json.loads(u.read())\n",
    "for u in users:\n",
    "    payload = {'username':u['username'],'password':u['password'],'appcode':u['appcode']}\n",
    "    res = requests.post(f\"{baseurl}auth/login/\",json=payload)\n",
    "    _t = json.loads(res.text)\n",
    "    toks[u['username']] = _t[\"token\"]"
   ]
  },
  {
   "cell_type": "code",
   "execution_count": 50,
   "metadata": {},
   "outputs": [],
   "source": [
    "for u in users:\n",
    "    headers = {\n",
    "        \"authorization\":f\"bearer {toks[u['username']]}\"\n",
    "    }\n",
    "    #print(headers)\n",
    "    payload = {\n",
    "    \"app_id\": u[\"appcode\"],\n",
    "    \"loyalty_pid\": u[\"valid_lp\"][1],\n",
    "    \"user_id\": f\"{u[\"username\"]}_id\",\n",
    "    \"member_id\": f\"{u[\"username\"]}_m_id\",\n",
    "    \"member_first\": f\"{u[\"member_first\"]}\",\n",
    "    \"member_last\":f\"{u[\"member_last\"]}\",\n",
    "    \"transaction_date\": \"20240808\",\n",
    "    \"ref_num\": f\"{abs(hash(u[\"username\"]))}\",\n",
    "    \"amount\": 10000,\n",
    "    \"additional_info\": \"tonnes of additionl info\"\n",
    "    }\n",
    "    res = requests.post(f\"{baseurl}transact/add_record\",json=payload,headers = headers)\n",
    "    _t = json.loads(res.text)\n",
    "    if(res.status_code!=200):\n",
    "        print(f\"{u[\"username\"]} payload transact fail - {res.status_code}\")"
   ]
  },
  {
   "cell_type": "code",
   "execution_count": 51,
   "metadata": {},
   "outputs": [],
   "source": [
    "import glob\n",
    "listing = glob.glob('../AccrualFiles/*')\n",
    "for l in listing:\n",
    "    hbs = \"transfer_date,amount,reference_number,outcome_code\\n\" \n",
    "    with open(l) as f:\n",
    "        for ll in (f.read().split('\\n'))[1::]:\n",
    "            r = ll.split(',')\n",
    "            if(len(r)>1):\n",
    "                hbs+=f\"{r[4]},{r[5]},{r[6]},0000\\n\"\n",
    "\n",
    "    with open(f\"../HandBackFiles/{l[16::].replace(\"ACCRUAL\",\"HANDBACK\")}\",'w+') as ff:\n",
    "        ff.write(hbs)\n"
   ]
  },
  {
   "cell_type": "code",
   "execution_count": null,
   "metadata": {},
   "outputs": [],
   "source": []
  }
 ],
 "metadata": {
  "kernelspec": {
   "display_name": "Python 3",
   "language": "python",
   "name": "python3"
  },
  "language_info": {
   "codemirror_mode": {
    "name": "ipython",
    "version": 3
   },
   "file_extension": ".py",
   "mimetype": "text/x-python",
   "name": "python",
   "nbconvert_exporter": "python",
   "pygments_lexer": "ipython3",
   "version": "3.12.4"
  }
 },
 "nbformat": 4,
 "nbformat_minor": 2
}
