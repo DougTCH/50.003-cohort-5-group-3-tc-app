{
 "cells": [
  {
   "cell_type": "code",
   "execution_count": 23,
   "metadata": {},
   "outputs": [
    {
     "name": "stdout",
     "output_type": "stream",
     "text": [
      "Looking in indexes: https://pypi.org/simple, https://pypi.ngc.nvidia.com\n",
      "Requirement already satisfied: requests in c:\\users\\sngam\\appdata\\local\\programs\\python\\python310\\lib\\site-packages (2.32.3)\n",
      "Requirement already satisfied: idna<4,>=2.5 in c:\\users\\sngam\\appdata\\local\\programs\\python\\python310\\lib\\site-packages (from requests) (3.7)\n",
      "Requirement already satisfied: certifi>=2017.4.17 in c:\\users\\sngam\\appdata\\local\\programs\\python\\python310\\lib\\site-packages (from requests) (2024.7.4)\n",
      "Requirement already satisfied: urllib3<3,>=1.21.1 in c:\\users\\sngam\\appdata\\local\\programs\\python\\python310\\lib\\site-packages (from requests) (2.2.2)\n",
      "Requirement already satisfied: charset-normalizer<4,>=2 in c:\\users\\sngam\\appdata\\local\\programs\\python\\python310\\lib\\site-packages (from requests) (3.3.2)\n"
     ]
    },
    {
     "name": "stderr",
     "output_type": "stream",
     "text": [
      "\n",
      "[notice] A new release of pip is available: 23.0.1 -> 24.2\n",
      "[notice] To update, run: python.exe -m pip install --upgrade pip\n"
     ]
    }
   ],
   "source": [
    "!pip install requests"
   ]
  },
  {
   "cell_type": "code",
   "execution_count": 24,
   "metadata": {},
   "outputs": [],
   "source": [
    "import requests\n",
    "import json\n",
    "import random\n",
    "baseurl = \"http://localhost:3000/\""
   ]
  },
  {
   "cell_type": "code",
   "execution_count": 25,
   "metadata": {},
   "outputs": [],
   "source": [
    "users = []\n",
    "toks = {}\n",
    "with open(\"users.json\") as u:\n",
    "    users = json.loads(u.read())\n",
    "for u in users:\n",
    "    payload = {'username':u['username'],'password':u['password'],'appcode':u['appcode']}\n",
    "    res = requests.post(f\"{baseurl}auth/login/\",json=payload)\n",
    "    _t = json.loads(res.text)\n",
    "    toks[u['username']] = _t[\"token\"]"
   ]
  },
  {
   "cell_type": "code",
   "execution_count": 26,
   "metadata": {},
   "outputs": [
    {
     "name": "stdout",
     "output_type": "stream",
     "text": [
      "BEST_MOVERS user1\n",
      "user1 payload transact fail - 500\n",
      "FRESH_BAG user2\n",
      "user2 payload transact fail - 500\n",
      "HIS_AND_HERS user3\n",
      "user3 payload transact fail - 500\n",
      "PASSION_PAY user4\n",
      "user4 payload transact fail - 500\n",
      "TAKO_RAMEN user5\n",
      "user5 payload transact fail - 500\n",
      "FRESH_BAG user6\n",
      "user6 payload transact fail - 500\n",
      "JOYSPRING_TOYS user7\n",
      "user7 payload transact fail - 500\n",
      "FRESH_BAG user8\n",
      "user8 payload transact fail - 500\n",
      "GO_CART user9\n",
      "user9 payload transact fail - 500\n",
      "KINGSMAN_SERVICES user10\n",
      "user10 payload transact fail - 500\n",
      "ROYAL_AIR user11\n",
      "user11 payload transact fail - 500\n",
      "OUTDOOR_BROS user12\n",
      "user12 payload transact fail - 500\n",
      "THE_NATURE_TREE user13\n",
      "user13 payload transact fail - 500\n",
      "BEST_MOVERS user14\n",
      "user14 payload transact fail - 500\n",
      "FRESH_BAG user15\n",
      "user15 payload transact fail - 500\n",
      "GOLDEN_HOTELS user16\n",
      "user16 payload transact fail - 500\n",
      "PASSION_PAY user17\n",
      "user17 payload transact fail - 500\n",
      "ROYAL_AIR user18\n",
      "user18 payload transact fail - 500\n",
      "SUSHI_CHOPSTICKS user19\n",
      "user19 payload transact fail - 500\n",
      "JOYSPRING_TOYS user20\n",
      "user20 payload transact fail - 500\n",
      "BEST_MOVERS user21\n",
      "user21 payload transact fail - 500\n",
      "FRESH_BAG user22\n",
      "user22 payload transact fail - 500\n",
      "HIS_AND_HERS user23\n",
      "user23 payload transact fail - 500\n",
      "PASSION_PAY user24\n",
      "user24 payload transact fail - 500\n",
      "TAKO_RAMEN user25\n",
      "user25 payload transact fail - 500\n",
      "FRESH_BAG user26\n",
      "user26 payload transact fail - 500\n",
      "JOYSPRING_TOYS user27\n",
      "user27 payload transact fail - 500\n",
      "FRESH_BAG user28\n",
      "user28 payload transact fail - 500\n"
     ]
    }
   ],
   "source": [
    "for u in users:\n",
    "    headers = {\n",
    "        \"authorization\":f\"bearer {toks[u['username']]}\"\n",
    "    }\n",
    "    print(u[\"valid_lp\"][0], u[\"username\"])\n",
    "    payload = {\n",
    "    \"app_id\": u[\"appcode\"],\n",
    "    \"loyalty_pid\": u[\"valid_lp\"][0],\n",
    "    \"user_id\": f\"{u['username']}_id\",\n",
    "    \"member_id\": f\"{u['username']}_m_id\",\n",
    "    \"member_first\": f\"{u['member_first']}\",\n",
    "    \"member_last\":f\"{u['member_last']}\",\n",
    "    \"transaction_date\": \"20240808\",\n",
    "    \"ref_num\": f\"{random.randint(100000,999999)}\",\n",
    "    \"amount\": 10000,\n",
    "    \"additional_info\": \"tonnes of additionl info\"\n",
    "    }\n",
    "    res = requests.post(f\"{baseurl}transact/add_record\",json=payload,headers = headers)\n",
    "    _t = json.loads(res.text)\n",
    "    if(res.status_code!=200):\n",
    "        print(f\"{u['username']} payload transact fail - {res.status_code}\")"
   ]
  },
  {
   "cell_type": "code",
   "execution_count": 27,
   "metadata": {},
   "outputs": [],
   "source": [
    "import glob\n",
    "listing = glob.glob('../AccrualFiles/*')\n",
    "for l in listing:\n",
    "    hbs = \"transfer_date,amount,reference_number,outcome_code\\n\" \n",
    "    with open(l) as f:\n",
    "        for ll in (f.read().split('\\n'))[1::]:\n",
    "            r = ll.split(',')\n",
    "            if(len(r)>1):\n",
    "                hbs+=f\"{r[4]},{r[5]},{r[6]},0000\\n\"\n",
    "\n",
    "    with open(f\"../HandBackFiles/{l[16::].replace('ACCRUAL','HANDBACK')}\",'w+') as ff:\n",
    "        ff.write(hbs)\n"
   ]
  },
  {
   "cell_type": "code",
   "execution_count": null,
   "metadata": {},
   "outputs": [],
   "source": []
  }
 ],
 "metadata": {
  "kernelspec": {
   "display_name": "Python 3",
   "language": "python",
   "name": "python3"
  },
  "language_info": {
   "codemirror_mode": {
    "name": "ipython",
    "version": 3
   },
   "file_extension": ".py",
   "mimetype": "text/x-python",
   "name": "python",
   "nbconvert_exporter": "python",
   "pygments_lexer": "ipython3",
   "version": "3.10.11"
  }
 },
 "nbformat": 4,
 "nbformat_minor": 2
}
